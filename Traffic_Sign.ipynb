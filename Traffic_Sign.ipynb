{
  "nbformat": 4,
  "nbformat_minor": 0,
  "metadata": {
    "colab": {
      "name": "Teksands_Traffic_Sign.ipynb",
      "provenance": []
    },
    "kernelspec": {
      "name": "python3",
      "display_name": "Python 3"
    },
    "accelerator": "GPU"
  },
  "cells": [
    {
      "cell_type": "code",
      "source": [
        "import tensorflow as tf \n",
        "print(tf.__version__)"
      ],
      "metadata": {
        "colab": {
          "base_uri": "https://localhost:8080/"
        },
        "id": "FNo55De8FYB8",
        "outputId": "02e1f2dc-abf8-4508-f6e1-49bac766e175"
      },
      "execution_count": 1,
      "outputs": [
        {
          "output_type": "stream",
          "name": "stdout",
          "text": [
            "2.8.0\n"
          ]
        }
      ]
    },
    {
      "cell_type": "code",
      "metadata": {
        "colab": {
          "base_uri": "https://localhost:8080/"
        },
        "id": "E_SYDOdu-Om7",
        "outputId": "1271cf46-1de0-4d8a-8192-5d254568b11f"
      },
      "source": [
        "!nvidia-smi"
      ],
      "execution_count": 2,
      "outputs": [
        {
          "output_type": "stream",
          "name": "stdout",
          "text": [
            "Tue Mar  1 10:57:46 2022       \n",
            "+-----------------------------------------------------------------------------+\n",
            "| NVIDIA-SMI 460.32.03    Driver Version: 460.32.03    CUDA Version: 11.2     |\n",
            "|-------------------------------+----------------------+----------------------+\n",
            "| GPU  Name        Persistence-M| Bus-Id        Disp.A | Volatile Uncorr. ECC |\n",
            "| Fan  Temp  Perf  Pwr:Usage/Cap|         Memory-Usage | GPU-Util  Compute M. |\n",
            "|                               |                      |               MIG M. |\n",
            "|===============================+======================+======================|\n",
            "|   0  Tesla K80           Off  | 00000000:00:04.0 Off |                    0 |\n",
            "| N/A   63C    P8    31W / 149W |      0MiB / 11441MiB |      0%      Default |\n",
            "|                               |                      |                  N/A |\n",
            "+-------------------------------+----------------------+----------------------+\n",
            "                                                                               \n",
            "+-----------------------------------------------------------------------------+\n",
            "| Processes:                                                                  |\n",
            "|  GPU   GI   CI        PID   Type   Process name                  GPU Memory |\n",
            "|        ID   ID                                                   Usage      |\n",
            "|=============================================================================|\n",
            "|  No running processes found                                                 |\n",
            "+-----------------------------------------------------------------------------+\n"
          ]
        }
      ]
    },
    {
      "cell_type": "code",
      "source": [
        "!git clone https://bitbucket.org/jadslim/german-traffic-signs.git"
      ],
      "metadata": {
        "colab": {
          "base_uri": "https://localhost:8080/"
        },
        "id": "gsJr_gIE2NmC",
        "outputId": "f87bd0b9-6b4b-49b4-a7ee-4768ff95b110"
      },
      "execution_count": 3,
      "outputs": [
        {
          "output_type": "stream",
          "name": "stdout",
          "text": [
            "Cloning into 'german-traffic-signs'...\n",
            "Unpacking objects: 100% (6/6), done.\n"
          ]
        }
      ]
    },
    {
      "cell_type": "code",
      "source": [
        "import pickle \n",
        "\n",
        "with open('/content/german-traffic-signs/train.p', 'rb') as file1 : \n",
        "  train_data = pickle.load(file1)\n",
        "with open('/content/german-traffic-signs/test.p', 'rb') as file2 : \n",
        "  test_data = pickle.load(file2)\n",
        "with open('/content/german-traffic-signs/valid.p', 'rb') as file3 : \n",
        "  valid_data = pickle.load(file3)"
      ],
      "metadata": {
        "id": "o-qgfzro3FTT"
      },
      "execution_count": 4,
      "outputs": []
    },
    {
      "cell_type": "code",
      "source": [
        "import pandas as pd \n",
        "names = pd.read_csv(\"/content/german-traffic-signs/signnames.csv\")\n",
        "names.head()"
      ],
      "metadata": {
        "colab": {
          "base_uri": "https://localhost:8080/",
          "height": 206
        },
        "id": "LsJjyABi6kDG",
        "outputId": "3aaa5a9e-03bd-4a65-9a5e-a9c4469ad2f5"
      },
      "execution_count": 5,
      "outputs": [
        {
          "output_type": "execute_result",
          "data": {
            "text/html": [
              "\n",
              "  <div id=\"df-52d1b72b-8c4d-4043-8062-7910e1025cf1\">\n",
              "    <div class=\"colab-df-container\">\n",
              "      <div>\n",
              "<style scoped>\n",
              "    .dataframe tbody tr th:only-of-type {\n",
              "        vertical-align: middle;\n",
              "    }\n",
              "\n",
              "    .dataframe tbody tr th {\n",
              "        vertical-align: top;\n",
              "    }\n",
              "\n",
              "    .dataframe thead th {\n",
              "        text-align: right;\n",
              "    }\n",
              "</style>\n",
              "<table border=\"1\" class=\"dataframe\">\n",
              "  <thead>\n",
              "    <tr style=\"text-align: right;\">\n",
              "      <th></th>\n",
              "      <th>ClassId</th>\n",
              "      <th>SignName</th>\n",
              "    </tr>\n",
              "  </thead>\n",
              "  <tbody>\n",
              "    <tr>\n",
              "      <th>0</th>\n",
              "      <td>0</td>\n",
              "      <td>Speed limit (20km/h)</td>\n",
              "    </tr>\n",
              "    <tr>\n",
              "      <th>1</th>\n",
              "      <td>1</td>\n",
              "      <td>Speed limit (30km/h)</td>\n",
              "    </tr>\n",
              "    <tr>\n",
              "      <th>2</th>\n",
              "      <td>2</td>\n",
              "      <td>Speed limit (50km/h)</td>\n",
              "    </tr>\n",
              "    <tr>\n",
              "      <th>3</th>\n",
              "      <td>3</td>\n",
              "      <td>Speed limit (60km/h)</td>\n",
              "    </tr>\n",
              "    <tr>\n",
              "      <th>4</th>\n",
              "      <td>4</td>\n",
              "      <td>Speed limit (70km/h)</td>\n",
              "    </tr>\n",
              "  </tbody>\n",
              "</table>\n",
              "</div>\n",
              "      <button class=\"colab-df-convert\" onclick=\"convertToInteractive('df-52d1b72b-8c4d-4043-8062-7910e1025cf1')\"\n",
              "              title=\"Convert this dataframe to an interactive table.\"\n",
              "              style=\"display:none;\">\n",
              "        \n",
              "  <svg xmlns=\"http://www.w3.org/2000/svg\" height=\"24px\"viewBox=\"0 0 24 24\"\n",
              "       width=\"24px\">\n",
              "    <path d=\"M0 0h24v24H0V0z\" fill=\"none\"/>\n",
              "    <path d=\"M18.56 5.44l.94 2.06.94-2.06 2.06-.94-2.06-.94-.94-2.06-.94 2.06-2.06.94zm-11 1L8.5 8.5l.94-2.06 2.06-.94-2.06-.94L8.5 2.5l-.94 2.06-2.06.94zm10 10l.94 2.06.94-2.06 2.06-.94-2.06-.94-.94-2.06-.94 2.06-2.06.94z\"/><path d=\"M17.41 7.96l-1.37-1.37c-.4-.4-.92-.59-1.43-.59-.52 0-1.04.2-1.43.59L10.3 9.45l-7.72 7.72c-.78.78-.78 2.05 0 2.83L4 21.41c.39.39.9.59 1.41.59.51 0 1.02-.2 1.41-.59l7.78-7.78 2.81-2.81c.8-.78.8-2.07 0-2.86zM5.41 20L4 18.59l7.72-7.72 1.47 1.35L5.41 20z\"/>\n",
              "  </svg>\n",
              "      </button>\n",
              "      \n",
              "  <style>\n",
              "    .colab-df-container {\n",
              "      display:flex;\n",
              "      flex-wrap:wrap;\n",
              "      gap: 12px;\n",
              "    }\n",
              "\n",
              "    .colab-df-convert {\n",
              "      background-color: #E8F0FE;\n",
              "      border: none;\n",
              "      border-radius: 50%;\n",
              "      cursor: pointer;\n",
              "      display: none;\n",
              "      fill: #1967D2;\n",
              "      height: 32px;\n",
              "      padding: 0 0 0 0;\n",
              "      width: 32px;\n",
              "    }\n",
              "\n",
              "    .colab-df-convert:hover {\n",
              "      background-color: #E2EBFA;\n",
              "      box-shadow: 0px 1px 2px rgba(60, 64, 67, 0.3), 0px 1px 3px 1px rgba(60, 64, 67, 0.15);\n",
              "      fill: #174EA6;\n",
              "    }\n",
              "\n",
              "    [theme=dark] .colab-df-convert {\n",
              "      background-color: #3B4455;\n",
              "      fill: #D2E3FC;\n",
              "    }\n",
              "\n",
              "    [theme=dark] .colab-df-convert:hover {\n",
              "      background-color: #434B5C;\n",
              "      box-shadow: 0px 1px 3px 1px rgba(0, 0, 0, 0.15);\n",
              "      filter: drop-shadow(0px 1px 2px rgba(0, 0, 0, 0.3));\n",
              "      fill: #FFFFFF;\n",
              "    }\n",
              "  </style>\n",
              "\n",
              "      <script>\n",
              "        const buttonEl =\n",
              "          document.querySelector('#df-52d1b72b-8c4d-4043-8062-7910e1025cf1 button.colab-df-convert');\n",
              "        buttonEl.style.display =\n",
              "          google.colab.kernel.accessAllowed ? 'block' : 'none';\n",
              "\n",
              "        async function convertToInteractive(key) {\n",
              "          const element = document.querySelector('#df-52d1b72b-8c4d-4043-8062-7910e1025cf1');\n",
              "          const dataTable =\n",
              "            await google.colab.kernel.invokeFunction('convertToInteractive',\n",
              "                                                     [key], {});\n",
              "          if (!dataTable) return;\n",
              "\n",
              "          const docLinkHtml = 'Like what you see? Visit the ' +\n",
              "            '<a target=\"_blank\" href=https://colab.research.google.com/notebooks/data_table.ipynb>data table notebook</a>'\n",
              "            + ' to learn more about interactive tables.';\n",
              "          element.innerHTML = '';\n",
              "          dataTable['output_type'] = 'display_data';\n",
              "          await google.colab.output.renderOutput(dataTable, element);\n",
              "          const docLink = document.createElement('div');\n",
              "          docLink.innerHTML = docLinkHtml;\n",
              "          element.appendChild(docLink);\n",
              "        }\n",
              "      </script>\n",
              "    </div>\n",
              "  </div>\n",
              "  "
            ],
            "text/plain": [
              "   ClassId              SignName\n",
              "0        0  Speed limit (20km/h)\n",
              "1        1  Speed limit (30km/h)\n",
              "2        2  Speed limit (50km/h)\n",
              "3        3  Speed limit (60km/h)\n",
              "4        4  Speed limit (70km/h)"
            ]
          },
          "metadata": {},
          "execution_count": 5
        }
      ]
    },
    {
      "cell_type": "code",
      "source": [
        "import matplotlib.pyplot as plt \n",
        "plt.imshow(train_data['features'][300])\n",
        "plt.title(names['SignName'][train_data['labels'][300]])\n",
        "plt.show()"
      ],
      "metadata": {
        "colab": {
          "base_uri": "https://localhost:8080/",
          "height": 281
        },
        "id": "QL90Gfcr3tJE",
        "outputId": "44f9bfa8-11a6-4859-b06b-8376309657cc"
      },
      "execution_count": 6,
      "outputs": [
        {
          "output_type": "display_data",
          "data": {
            "image/png": "[encoded data removed]",
            "text/plain": [
              "<Figure size 432x288 with 1 Axes>"
            ]
          },
          "metadata": {
            "needs_background": "light"
          }
        }
      ]
    },
    {
      "cell_type": "code",
      "source": [
        "x_train , y_train = train_data['features'] , train_data['labels']\n",
        "x_test , y_test = test_data['features'] , test_data['labels']\n",
        "x_valid , y_valid = valid_data['features'] , valid_data['labels']"
      ],
      "metadata": {
        "id": "ox2hy2pa3tFe"
      },
      "execution_count": 7,
      "outputs": []
    },
    {
      "cell_type": "code",
      "metadata": {
        "id": "K5p4GpRz-eQA"
      },
      "source": [
        "from tensorflow.keras.preprocessing import image\n",
        "from tensorflow.keras.layers import Dense , Flatten, Conv2D , MaxPooling2D , Dropout\n",
        "from tensorflow.keras.models import Sequential , Model\n",
        "from tensorflow.keras.preprocessing.image import ImageDataGenerator , load_img\n",
        "from glob import glob"
      ],
      "execution_count": 8,
      "outputs": []
    },
    {
      "cell_type": "code",
      "source": [
        "from keras.utils.np_utils import to_categorical\n",
        "\n",
        "y_train = to_categorical(y_train, 43)\n",
        "y_test = to_categorical(y_test, 43)\n",
        "y_valid = to_categorical(y_valid, 43)\n",
        "\n",
        "x_train = x_train.reshape(34799, 32, 32, 3)\n",
        "x_test = x_test.reshape(12630, 32, 32, 3)\n",
        "x_valid = x_valid.reshape(4410, 32, 32, 3)"
      ],
      "metadata": {
        "id": "VaJ5_dt5Hw07"
      },
      "execution_count": 9,
      "outputs": []
    },
    {
      "cell_type": "code",
      "metadata": {
        "id": "X4fnaSgP-g9L"
      },
      "source": [
        "train_datagen = ImageDataGenerator(rescale = 1./255 , zoom_range = 0.3 , shear_range = 0.4 , rotation_range = 30 , horizontal_flip = True)\n",
        "train_datagen.fit(x_train)\n",
        "test_datagen = ImageDataGenerator(rescale = 1./255)\n",
        "test_datagen.fit(x_test)\n",
        "valid_datagen = ImageDataGenerator(rescale = 1./255)\n",
        "valid_datagen.fit(x_valid)"
      ],
      "execution_count": 10,
      "outputs": []
    },
    {
      "cell_type": "code",
      "source": [
        "train_dataset = train_datagen.flow(x_train,y_train , batch_size = 16)\n",
        "test_dataset = test_datagen.flow(x_test , y_test , batch_size = 16 )\n",
        "valid_dataset = valid_datagen.flow(x_valid , y_valid , batch_size = 16)"
      ],
      "metadata": {
        "id": "UzLqCn3s7w9x"
      },
      "execution_count": 11,
      "outputs": []
    },
    {
      "cell_type": "code",
      "metadata": {
        "colab": {
          "base_uri": "https://localhost:8080/"
        },
        "id": "-8BhYcVH_BIa",
        "outputId": "ec2b084e-2e07-411d-a0cd-b0316a051ffd"
      },
      "source": [
        "import tensorflow as tf \n",
        "\n",
        "if tf.test.gpu_device_name(): \n",
        "    \n",
        "\n",
        "    print('Default GPU Device:{}'.format(tf.test.gpu_device_name()))\n",
        "\n",
        "else:\n",
        "\n",
        "    print(\"Please install GPU version of TF\")"
      ],
      "execution_count": 12,
      "outputs": [
        {
          "output_type": "stream",
          "name": "stdout",
          "text": [
            "Default GPU Device:/device:GPU:0\n"
          ]
        }
      ]
    },
    {
      "cell_type": "code",
      "metadata": {
        "id": "moQ3kpHZ_xoZ"
      },
      "source": [
        "from tensorflow.compat.v1 import ConfigProto\n",
        "from tensorflow.compat.v1 import InteractiveSession \n",
        "\n",
        "config = ConfigProto()\n",
        "config.gpu_options.per_process_gpu_memory_fraction = 0.5\n",
        "config.gpu_options.allow_growth = True\n",
        "session = InteractiveSession(config = config)"
      ],
      "execution_count": 13,
      "outputs": []
    },
    {
      "cell_type": "code",
      "metadata": {
        "id": "hqX42MGv_1ZB"
      },
      "source": [
        "model = Sequential()\n",
        "model.add(Conv2D(32 , (3,3) , input_shape = (32,32,3) , activation = 'relu'))\n",
        "model.add(MaxPooling2D(2,2))\n",
        "model.add(Conv2D(15, (3, 3), activation='relu'))\n",
        "model.add(MaxPooling2D(2, 2))\n",
        "model.add(Flatten())\n",
        "model.add(Dense(500, activation='relu'))\n",
        "model.add(Dropout(0.5))\n",
        "model.add(Dense(43, activation='softmax'))\n",
        "\n",
        "model.compile(optimizer = 'adam' , metrics = 'accuracy' , loss = 'categorical_crossentropy')"
      ],
      "execution_count": 17,
      "outputs": []
    },
    {
      "cell_type": "code",
      "source": [
        "model.summary()"
      ],
      "metadata": {
        "colab": {
          "base_uri": "https://localhost:8080/"
        },
        "id": "n1fY83OE-qQu",
        "outputId": "c6f96914-1305-4c5d-b889-ade74b3427d8"
      },
      "execution_count": 18,
      "outputs": [
        {
          "output_type": "stream",
          "name": "stdout",
          "text": [
            "Model: \"sequential_1\"\n",
            "_________________________________________________________________\n",
            " Layer (type)                Output Shape              Param #   \n",
            "=================================================================\n",
            " conv2d_2 (Conv2D)           (None, 30, 30, 32)        896       \n",
            "                                                                 \n",
            " max_pooling2d_2 (MaxPooling  (None, 15, 15, 32)       0         \n",
            " 2D)                                                             \n",
            "                                                                 \n",
            " conv2d_3 (Conv2D)           (None, 13, 13, 15)        4335      \n",
            "                                                                 \n",
            " max_pooling2d_3 (MaxPooling  (None, 6, 6, 15)         0         \n",
            " 2D)                                                             \n",
            "                                                                 \n",
            " flatten_1 (Flatten)         (None, 540)               0         \n",
            "                                                                 \n",
            " dense_2 (Dense)             (None, 500)               270500    \n",
            "                                                                 \n",
            " dropout_1 (Dropout)         (None, 500)               0         \n",
            "                                                                 \n",
            " dense_3 (Dense)             (None, 43)                21543     \n",
            "                                                                 \n",
            "=================================================================\n",
            "Total params: 297,274\n",
            "Trainable params: 297,274\n",
            "Non-trainable params: 0\n",
            "_________________________________________________________________\n"
          ]
        }
      ]
    },
    {
      "cell_type": "code",
      "source": [
        "model.fit(train_dataset , validation_data = valid_dataset , epochs = 10)"
      ],
      "metadata": {
        "colab": {
          "base_uri": "https://localhost:8080/"
        },
        "id": "kjdGylM-9l2q",
        "outputId": "2cef5f75-2b06-4a34-8e1c-ae01ab39b2c7"
      },
      "execution_count": 19,
      "outputs": [
        {
          "output_type": "stream",
          "name": "stdout",
          "text": [
            "Epoch 1/10\n",
            "2175/2175 [==============================] - 32s 14ms/step - loss: 1.7395 - accuracy: 0.4755 - val_loss: 0.8530 - val_accuracy: 0.7497\n",
            "Epoch 2/10\n",
            "2175/2175 [==============================] - 31s 14ms/step - loss: 0.8605 - accuracy: 0.7164 - val_loss: 0.6510 - val_accuracy: 0.8018\n",
            "Epoch 3/10\n",
            "2175/2175 [==============================] - 30s 14ms/step - loss: 0.6429 - accuracy: 0.7865 - val_loss: 0.5475 - val_accuracy: 0.8306\n",
            "Epoch 4/10\n",
            "2175/2175 [==============================] - 30s 14ms/step - loss: 0.5405 - accuracy: 0.8226 - val_loss: 0.4715 - val_accuracy: 0.8442\n",
            "Epoch 5/10\n",
            "2175/2175 [==============================] - 30s 14ms/step - loss: 0.4750 - accuracy: 0.8447 - val_loss: 0.6059 - val_accuracy: 0.8252\n",
            "Epoch 6/10\n",
            "2175/2175 [==============================] - 30s 14ms/step - loss: 0.4292 - accuracy: 0.8577 - val_loss: 0.4793 - val_accuracy: 0.8651\n",
            "Epoch 7/10\n",
            "2175/2175 [==============================] - 31s 14ms/step - loss: 0.3980 - accuracy: 0.8694 - val_loss: 0.4441 - val_accuracy: 0.8680\n",
            "Epoch 8/10\n",
            "2175/2175 [==============================] - 31s 14ms/step - loss: 0.3732 - accuracy: 0.8772 - val_loss: 0.4447 - val_accuracy: 0.8789\n",
            "Epoch 9/10\n",
            "2175/2175 [==============================] - 34s 16ms/step - loss: 0.3484 - accuracy: 0.8855 - val_loss: 0.4667 - val_accuracy: 0.8762\n",
            "Epoch 10/10\n",
            "2175/2175 [==============================] - 30s 14ms/step - loss: 0.3249 - accuracy: 0.8949 - val_loss: 0.4427 - val_accuracy: 0.8952\n"
          ]
        },
        {
          "output_type": "execute_result",
          "data": {
            "text/plain": [
              "<keras.callbacks.History at 0x7f4a4465f910>"
            ]
          },
          "metadata": {},
          "execution_count": 19
        }
      ]
    },
    {
      "cell_type": "code",
      "source": [
        "from sklearn.metrics import classification_report \n",
        "import numpy as np "
      ],
      "metadata": {
        "id": "2tiretvQ-COg"
      },
      "execution_count": 27,
      "outputs": []
    },
    {
      "cell_type": "code",
      "source": [
        "predictions = np.argmax(model.predict(x_test), axis = 1 )\n",
        "y_test = np.argmax(y_test, axis=1)"
      ],
      "metadata": {
        "id": "PJTPVRojJ4B7"
      },
      "execution_count": 28,
      "outputs": []
    },
    {
      "cell_type": "code",
      "source": [
        "predictions"
      ],
      "metadata": {
        "colab": {
          "base_uri": "https://localhost:8080/"
        },
        "id": "NppmriYgJ9pW",
        "outputId": "5c213042-69c2-4fdd-9d70-b0ab8e5bb4b7"
      },
      "execution_count": 29,
      "outputs": [
        {
          "output_type": "execute_result",
          "data": {
            "text/plain": [
              "array([16,  1, 38, ..., 38,  7, 10])"
            ]
          },
          "metadata": {},
          "execution_count": 29
        }
      ]
    },
    {
      "cell_type": "code",
      "source": [
        "print(classification_report(y_test , predictions))"
      ],
      "metadata": {
        "colab": {
          "base_uri": "https://localhost:8080/"
        },
        "id": "nvOxciBzKD-r",
        "outputId": "c13b9f93-6458-411c-e8f2-014b173edccc"
      },
      "execution_count": 33,
      "outputs": [
        {
          "output_type": "stream",
          "name": "stdout",
          "text": [
            "              precision    recall  f1-score   support\n",
            "\n",
            "           0       0.74      0.80      0.77        60\n",
            "           1       0.60      0.88      0.71       720\n",
            "           2       0.52      0.91      0.66       750\n",
            "           3       0.57      0.45      0.50       450\n",
            "           4       0.94      0.80      0.87       660\n",
            "           5       0.59      0.10      0.17       630\n",
            "           6       1.00      0.34      0.51       150\n",
            "           7       0.72      0.73      0.73       450\n",
            "           8       0.84      0.78      0.81       450\n",
            "           9       0.85      0.95      0.89       480\n",
            "          10       0.99      0.70      0.82       660\n",
            "          11       0.77      0.90      0.83       420\n",
            "          12       0.99      0.88      0.94       690\n",
            "          13       0.96      0.98      0.97       720\n",
            "          14       1.00      1.00      1.00       270\n",
            "          15       1.00      0.63      0.78       210\n",
            "          16       0.92      0.92      0.92       150\n",
            "          17       1.00      0.88      0.94       360\n",
            "          18       0.90      0.85      0.88       390\n",
            "          19       0.53      0.97      0.69        60\n",
            "          20       0.00      0.00      0.00        90\n",
            "          21       0.66      0.59      0.62        90\n",
            "          22       1.00      0.80      0.89       120\n",
            "          23       0.55      0.95      0.70       150\n",
            "          24       0.97      0.62      0.76        90\n",
            "          25       0.75      0.81      0.77       480\n",
            "          26       0.91      0.79      0.85       180\n",
            "          27       0.53      0.47      0.50        60\n",
            "          28       0.41      0.80      0.54       150\n",
            "          29       0.57      0.30      0.39        90\n",
            "          30       0.85      0.15      0.26       150\n",
            "          31       0.87      0.77      0.82       270\n",
            "          32       1.00      0.67      0.80        60\n",
            "          33       0.91      0.47      0.62       210\n",
            "          34       0.49      0.97      0.65       120\n",
            "          35       0.96      0.97      0.97       390\n",
            "          36       0.90      0.55      0.68       120\n",
            "          37       0.45      0.85      0.59        60\n",
            "          38       0.78      0.94      0.85       690\n",
            "          39       0.40      0.41      0.40        90\n",
            "          40       0.36      0.91      0.52        90\n",
            "          41       0.55      0.78      0.64        60\n",
            "          42       0.97      0.39      0.56        90\n",
            "\n",
            "    accuracy                           0.76     12630\n",
            "   macro avg       0.75      0.71      0.69     12630\n",
            "weighted avg       0.79      0.76      0.75     12630\n",
            "\n"
          ]
        },
        {
          "output_type": "stream",
          "name": "stderr",
          "text": [
            "/usr/local/lib/python3.7/dist-packages/sklearn/metrics/_classification.py:1318: UndefinedMetricWarning: Precision and F-score are ill-defined and being set to 0.0 in labels with no predicted samples. Use `zero_division` parameter to control this behavior.\n",
            "  _warn_prf(average, modifier, msg_start, len(result))\n",
            "/usr/local/lib/python3.7/dist-packages/sklearn/metrics/_classification.py:1318: UndefinedMetricWarning: Precision and F-score are ill-defined and being set to 0.0 in labels with no predicted samples. Use `zero_division` parameter to control this behavior.\n",
            "  _warn_prf(average, modifier, msg_start, len(result))\n",
            "/usr/local/lib/python3.7/dist-packages/sklearn/metrics/_classification.py:1318: UndefinedMetricWarning: Precision and F-score are ill-defined and being set to 0.0 in labels with no predicted samples. Use `zero_division` parameter to control this behavior.\n",
            "  _warn_prf(average, modifier, msg_start, len(result))\n"
          ]
        }
      ]
    },
    {
      "cell_type": "code",
      "source": [
        "model.save('traffic.h5')"
      ],
      "metadata": {
        "id": "W72pugrrKON0"
      },
      "execution_count": 34,
      "outputs": []
    },
    {
      "cell_type": "code",
      "source": [
        "import tensorflow\n",
        "final_model = tensorflow.keras.models.load_model('traffic.h5')"
      ],
      "metadata": {
        "id": "tOLAvK4qK-qy"
      },
      "execution_count": 39,
      "outputs": []
    },
    {
      "cell_type": "code",
      "source": [
        "plt.imshow(x_test[20])"
      ],
      "metadata": {
        "colab": {
          "base_uri": "https://localhost:8080/",
          "height": 283
        },
        "id": "Pj56NyoqLRXb",
        "outputId": "39f371b5-f31e-4be6-8a9c-419c47f43a1a"
      },
      "execution_count": 74,
      "outputs": [
        {
          "output_type": "execute_result",
          "data": {
            "text/plain": [
              "<matplotlib.image.AxesImage at 0x7f4aaff21b10>"
            ]
          },
          "metadata": {},
          "execution_count": 74
        },
        {
          "output_type": "display_data",
          "data": {
            "image/png": "[encoded data removed]",
            "text/plain": [
              "<Figure size 432x288 with 1 Axes>"
            ]
          },
          "metadata": {
            "needs_background": "light"
          }
        }
      ]
    },
    {
      "cell_type": "code",
      "source": [
        "new_img = x_test[20]\n",
        "new_img = new_img.reshape(1 , 32,32,3)\n",
        "label = np.argmax(final_model.predict(new_img))\n",
        "names['SignName'][label]"
      ],
      "metadata": {
        "colab": {
          "base_uri": "https://localhost:8080/",
          "height": 35
        },
        "id": "5AhgQPXRLDP1",
        "outputId": "4e0c205f-7e00-4473-a106-397f22288d51"
      },
      "execution_count": 75,
      "outputs": [
        {
          "output_type": "execute_result",
          "data": {
            "application/vnd.google.colaboratory.intrinsic+json": {
              "type": "string"
            },
            "text/plain": [
              "'Speed limit (70km/h)'"
            ]
          },
          "metadata": {},
          "execution_count": 75
        }
      ]
    }
  ]
}
